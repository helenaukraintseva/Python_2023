{
 "cells": [
  {
   "cell_type": "markdown",
   "metadata": {},
   "source": [
    "## 1. Средний балл (списки)\n",
    "\n",
    "Дан список `student = ['Иван Питонов', 2001, [8, 7, 7, 9, 6], True]`. Выполните пункты ниже. Все выводы должны быть в формате \"Средний балл студента: {средний балл}\"\n",
    "\n",
    "1. Выведите фамилию и имя Ивана в формате \"Студент: {Фамилия}, {Имя}\"\n",
    "2. Выведите возраст Ивана, если сейчас 2020 год.\n",
    "3. Напечатайте оценки Ивана через запятую. \n",
    "1. Найдите средний балл Ивана, если оценки хранятся в списке внутри. Сумму элементов списка можно найти с помощью функции sum(). Выведите средний балл.\n",
    "3. Если средняя оценка Ивана больше или равна 8, то он получает повышенную стипендию. Выведите True или False."
   ]
  },
  {
   "cell_type": "code",
   "execution_count": 1,
   "metadata": {},
   "outputs": [],
   "source": [
    "student = ['Иван Питонов', 2001, [8, 7, 7, 9, 6], True]"
   ]
  },
  {
   "cell_type": "code",
   "execution_count": 4,
   "metadata": {},
   "outputs": [
    {
     "name": "stdout",
     "output_type": "stream",
     "text": [
      "Студент Питонов, Иван\n",
      "19\n",
      "8, 7, 7, 9, 6\n",
      "7.4\n",
      "False\n"
     ]
    }
   ],
   "source": [
    "#1 \n",
    "print(f'Студент {student[0].split()[1]}, {student[0].split()[0]}')\n",
    "#2\n",
    "print(2020 - student[1])\n",
    "#3 \n",
    "print(', '.join(list(map(str, student[2]))))\n",
    "#4 \n",
    "avg_mark = sum(student[2])/len(student[2])\n",
    "print(avg_mark)\n",
    "#5\n",
    "if avg_mark >= 8:\n",
    "    print(True)\n",
    "else:\n",
    "    print(False)"
   ]
  },
  {
   "cell_type": "markdown",
   "metadata": {},
   "source": [
    "## 2. Срезы списков\n",
    "\n",
    "Используя список `dwarves`, выведите на экран с помощью срезов следующие списки:\n",
    "\n",
    "    [\"Двалин\", \"Бифур\", \"Бофур\"]\n",
    "    [\"Балин\", \"Бифур\", \"Бомбур\", \"Глоин\", \"Нори\", \"Фили\", \"Торин\"]\n",
    "    [\"Оин\", \"Дори\", \"Ори\", \"Кили\"]\n",
    "    [\"Торин\", \"Фили\", \"Нори\", \"Глоин\"]"
   ]
  },
  {
   "cell_type": "code",
   "execution_count": 6,
   "metadata": {},
   "outputs": [],
   "source": [
    "dwarves = [\"Балин\", \"Двалин\", \"Бифур\", \"Бофур\", \n",
    "         \"Бомбур\", \"Оин\", \"Глоин\", \"Дори\", \"Нори\",\n",
    "         \"Ори\", \"Фили\", \"Кили\", \"Торин\"]\n",
    "\n",
    "# решение здесь"
   ]
  },
  {
   "cell_type": "code",
   "execution_count": 12,
   "metadata": {},
   "outputs": [
    {
     "name": "stdout",
     "output_type": "stream",
     "text": [
      "['Двалин', 'Бифур']\n",
      "['Балин', 'Бифур', 'Бомбур', 'Глоин', 'Нори', 'Фили', 'Торин']\n",
      "['Оин', 'Дори', 'Ори', 'Кили']\n",
      "['Торин', 'Фили', 'Нори', 'Глоин']\n"
     ]
    }
   ],
   "source": [
    "print(dwarves[1:3])\n",
    "print(dwarves[::2])\n",
    "print(dwarves[5:12:2])\n",
    "print(dwarves[:5:-2])"
   ]
  },
  {
   "cell_type": "markdown",
   "metadata": {},
   "source": [
    "## 3. Вложенные словари\n",
    "\n",
    "Вам дан словарь, содержащий в себе списки словарей. Напишите код, который выведет на экран 'разработчик' из списка ключа Windows в в первом словаре из списка 2."
   ]
  },
  {
   "cell_type": "code",
   "execution_count": 13,
   "metadata": {},
   "outputs": [],
   "source": [
    "dict_of_lists = {'Список1': [{'Python': 'язык программирования'}, {'R':'язык программирования', 'LaTEX' : 'язык верстки' }], \n",
    "                 'Список2' : [{'Windows' : ['операционная система', 'разработчик'], 'UNIX' : 'операционная система'},\n",
    "                              {'IBM': ['компания-производитель', 'разработчик'], 'IPv6' : 'интернет-протокол' }]}\n",
    "\n",
    "# ваше решение здесь"
   ]
  },
  {
   "cell_type": "code",
   "execution_count": 14,
   "metadata": {},
   "outputs": [
    {
     "name": "stdout",
     "output_type": "stream",
     "text": [
      "разработчик\n"
     ]
    }
   ],
   "source": [
    "print(dict_of_lists['Список2'][0]['Windows'][1])"
   ]
  },
  {
   "cell_type": "markdown",
   "metadata": {},
   "source": [
    "## 3. Количество различных чисел (списки и множества)\n",
    "\n",
    "Дан список чисел, который может содержать до 100000 чисел. \n",
    "\n",
    "1. Определите, сколько в нем встречается различных чисел.\n",
    "2. Оцените, как зависит количество уникальных элементов в списке от длины списка (от length)\n",
    "\n",
    "Если есть вопрос \"как оценить\", приходите в чат, ответ обязательно найдется. Логика: много раз сгенерировать списки длины l, в каждом посчитать кол-во уникальных элементов, усреднить, повторить для нового l.\n",
    "\n",
    "Если у вас в кармане завалялось математическое вычисление этой зависимости, приносите :)"
   ]
  },
  {
   "cell_type": "code",
   "execution_count": 15,
   "metadata": {},
   "outputs": [],
   "source": [
    "import numpy as np\n",
    "\n",
    "\n",
    "# Генерирую случайную длину до 100000\n",
    "length = np.random.randint(1,100000)\n",
    "\n",
    "# Генерирую случайный список целых чисел из length элементов\n",
    "int_list = list(np.random.binomial(length, 0.5,size = length))"
   ]
  },
  {
   "cell_type": "code",
   "execution_count": 18,
   "metadata": {},
   "outputs": [
    {
     "data": {
      "text/plain": [
       "[<matplotlib.lines.Line2D at 0x24556a27760>]"
      ]
     },
     "execution_count": 18,
     "metadata": {},
     "output_type": "execute_result"
    },
    {
     "data": {
      "image/png": "[encoded data removed]",
      "text/plain": [
       "<Figure size 640x480 with 1 Axes>"
      ]
     },
     "metadata": {},
     "output_type": "display_data"
    }
   ],
   "source": [
    "import matplotlib.pyplot as plt\n",
    "\n",
    "avg_number = []\n",
    "for length in range(100, 10_000, 100):\n",
    "    num_number = []\n",
    "    for _ in range(100):\n",
    "        int_list = list(np.random.binomial(length, 0.5,size = length))\n",
    "        num_number.append(len(set(int_list)))\n",
    "        \n",
    "    avg_number.append(np.mean(num_number))\n",
    "        \n",
    "        \n",
    "plt.plot(range(100, 10_000, 100), avg_number)"
   ]
  },
  {
   "cell_type": "markdown",
   "metadata": {},
   "source": [
    "## 4. Сортируем числа и строки (списки, сортировки, map())\n",
    "Дан список `numbers = [1, 1000, 1002124, 25, 10, 20, 351]`. Выполните следующие шаги. Для сортировок пользуйтесь функцией sorted().\n",
    "\n",
    "1. Отсортируйте этот список по возрастанию и сохраните результат в переменную numbers_int_sorted\n",
    "2. На основе оригинального списка numbers с помощью функции map создайте новый список, где вместо каждого числа будет строка ('1', '1000' и т.д.) и сохраните его в переменную numbers_str\n",
    "3. Отсортируйте список numbers_str по возрастанию и сохраните результат в переменную numbers_str_sorted\n",
    "4. Отсортийте список numbers_str по возрастанию с помощью ключа, который перед сортировкой представляет строки в виде целых чисел, и сохраните результат в переменную numbers_str_key_sorted\n",
    "5. Выведите три отсортированных списка. Есть ли среди них одинаковые? Почему?\n",
    "\n"
   ]
  },
  {
   "cell_type": "code",
   "execution_count": 19,
   "metadata": {},
   "outputs": [],
   "source": [
    "numbers = [1, 1000, 1002124, 25, 10, 20, 351]"
   ]
  },
  {
   "cell_type": "code",
   "execution_count": 27,
   "metadata": {},
   "outputs": [
    {
     "name": "stdout",
     "output_type": "stream",
     "text": [
      "[1, 10, 20, 25, 351, 1000, 1002124]\n",
      "['1', '10', '1000', '1002124', '20', '25', '351']\n",
      "['1', '10', '20', '25', '351', '1000', '1002124']\n",
      "\n",
      "1 и 3 листы совпадают, тк в третьем случае стринги сортились как целочисленные значения, \n",
      "      то есть приводились к тому же виду, что и первый случай\n"
     ]
    }
   ],
   "source": [
    "#1\n",
    "numbers_int_sorted = sorted(numbers)\n",
    "#2\n",
    "numbers_str = list(map(str, numbers))\n",
    "#3\n",
    "numbers_str_sorted = sorted(numbers_str)\n",
    "#4\n",
    "numbers_str_key_sorted = sorted(numbers_str, key = int)\n",
    "#5\n",
    "print(numbers_int_sorted)\n",
    "print(numbers_str_sorted)\n",
    "print(numbers_str_key_sorted)\n",
    "print()\n",
    "print('''1 и 3 листы совпадают, тк в третьем случае стринги сортились как целочисленные значения, \n",
    "      то есть приводились к тому же виду, что и первый случай''')"
   ]
  },
  {
   "cell_type": "markdown",
   "metadata": {},
   "source": [
    "## 5. Факультативы (множества)\n",
    "Группа из 3 студентов пишет заявки на желаемые факультативы из списка: английский, немецкий, право, математика, сольфеджио. Факультатив откроют, если на него запишутся все студенты. Каждый студент может выбрать минимум один и максимум три факультатива. Нужно посчитать количество факультативов, которые откроются.\n",
    "\n",
    "*Пример*\n",
    "\n",
    "**Ввод:**\n",
    "\n",
    "английский сольфеджио право  \n",
    "математика сольфеджио  \n",
    "немецкий право\n",
    "\n",
    "**Вывод:**\n",
    "\n",
    "0\n",
    "\n",
    "**Ввод:**\n",
    "\n",
    "математика немецкий право  \n",
    "математика немецкий  \n",
    "немецкий право математика \n",
    "\n",
    "**Вывод:**  \n",
    "2\n",
    "\n",
    "(нужна будет функция input())"
   ]
  },
  {
   "cell_type": "code",
   "execution_count": 1,
   "metadata": {},
   "outputs": [
    {
     "name": "stdout",
     "output_type": "stream",
     "text": [
      "математика немецкий право\n",
      "математика немецкий\n",
      "немецкий право математика\n",
      "2\n"
     ]
    }
   ],
   "source": [
    "lessons = {}\n",
    "\n",
    "for _ in range(3):\n",
    "    desires = input().split()\n",
    "    \n",
    "    for lesson in desires:\n",
    "        lessons[lesson] = lessons.get(lesson, 0) + 1\n",
    "\n",
    "num_lessons = 0\n",
    "for count in lessons.values():\n",
    "    if count == 3:\n",
    "        num_lessons += 1\n",
    "print(num_lessons)"
   ]
  },
  {
   "cell_type": "markdown",
   "metadata": {},
   "source": [
    "## 6. Даны два отсортированных списка, соедините их в один отсортированный список\n",
    "\n",
    "Нужно сделать за минимальное возможное кол-во операций\n",
    "\n",
    "    Входные данные: [1,2,3], [3,4,5]\n",
    "    Выходные данные: [1,2,3,3,4,5]\n",
    "\n",
    "    Входные данные: [1,1,1], [1,40,50]\n",
    "    Выходные данные: [1,1,1,1,40,50]"
   ]
  },
  {
   "cell_type": "code",
   "execution_count": 70,
   "metadata": {},
   "outputs": [
    {
     "name": "stdout",
     "output_type": "stream",
     "text": [
      "1 2 3\n",
      "4 5 6\n",
      "[1, 2, 3, 4, 5, 6]\n"
     ]
    }
   ],
   "source": [
    "# оптимально для человека O(NlogN)\n",
    "list_1 = list(map(int, input().split()))\n",
    "list_2 = list(map(int, input().split()))\n",
    "list_1.extend(list_2)\n",
    "\n",
    "print(sorted(list_1))"
   ]
  },
  {
   "cell_type": "code",
   "execution_count": 76,
   "metadata": {},
   "outputs": [
    {
     "name": "stdout",
     "output_type": "stream",
     "text": [
      "4 5 6\n",
      "1 2 3\n",
      "[1, 2, 3, 4, 5, 6]\n"
     ]
    }
   ],
   "source": [
    "# Оптимально с т. зрения алгосов O(N)\n",
    "list_1 = list(map(int, input().split()))\n",
    "list_2 = list(map(int, input().split()))\n",
    "\n",
    "cnt_1, cnt_2 = 0, 0\n",
    "res = []\n",
    "\n",
    "while (len(list_1) > 0) & (len(list_2) > 0):\n",
    "    if list_1[0] <= list_2[0]:\n",
    "        res.append(list_1.pop(0))\n",
    "    else:\n",
    "        res.append(list_2.pop(0))\n",
    "    \n",
    "res.extend(list_1)\n",
    "res.extend(list_2)\n",
    "print(res)"
   ]
  },
  {
   "cell_type": "markdown",
   "metadata": {},
   "source": [
    "## 7. Про Поросёнка Петра\n",
    "\n",
    "На плоскости в точке (0,0) стоит Поросёнок Пётр. Он умеет ходить налево, направо, вверх и вниз. Расстояние его прохода в какую-либо сторону измеряется в шагах. Когда он идет вправо, его первая координата увеличивается, когда влево - уменьшается. Когда он идет вверх, его вторая координата увеличивается, а когда вниз - уменьшается. \n",
    "\n",
    "С клавиатуры считывается число N - число ходов, которые сделает Пётр. После чего на каждом шаге спрашивается, сколько шагов и в какую сторону за этот ход Пётр сделает. Так происходит, пока Пётр не осуществит все N ходов.\n",
    "\n",
    "Программа должна вывести, сколько шагов Пётр должен был бы сделать, чтобы кратчайшим путем прибыть из свое начальной точки (0,0) в свою конечную точку. Напоминание: Пётр умеет ходить только вверх-вниз, и влево-вправо, но не по диагонали.\n",
    "\n",
    "Пример ввода: \n",
    "\n",
    "    Введите N: 3\n",
    "    Ход 1: Вверх 1\n",
    "    Ход 2: Вниз 1\n",
    "    Ход 3: Вверх 1\n",
    "    \n",
    "Пример вывода:\n",
    "\n",
    "    Пётр находится на расстоянии 1 от (0,0)"
   ]
  },
  {
   "cell_type": "code",
   "execution_count": 51,
   "metadata": {},
   "outputs": [
    {
     "name": "stdout",
     "output_type": "stream",
     "text": [
      "Введите N: 3\n",
      "Ход 1: Вверх 1\n",
      "Ход 2: Вниз 1\n",
      "Ход 3: Вверх 1\n",
      "Пётр находится на расстоянии 1 от (0,0)\n"
     ]
    }
   ],
   "source": [
    "N = int(input('Введите N: '))\n",
    "\n",
    "pos = [0, 0]\n",
    "\n",
    "for i in range(N):\n",
    "    step = input(f'Ход {i+1}: ').split()\n",
    "    direction = step[-2]\n",
    "    num_step = int(step[-1])\n",
    "    \n",
    "    if direction == 'Вправо':\n",
    "        pos[0] += num_step\n",
    "    elif direction == 'Влево':\n",
    "        pos[0] -= num_step\n",
    "        \n",
    "    elif direction == 'Вверх':\n",
    "        pos[1] += num_step\n",
    "    elif direction == 'Вниз':\n",
    "        pos[1] -= num_step\n",
    "\n",
    "print(f'Пётр находится на расстоянии {abs(pos[0] + abs(pos[1]))} от (0,0)')\n",
    "        \n",
    "        "
   ]
  },
  {
   "cell_type": "markdown",
   "metadata": {},
   "source": [
    "## 8. Развернуть число\n",
    "\n",
    "Вам на вход подается произвольное целое число. \"Разверните\" его, не используя преобразование к строке.\n",
    "\n",
    "Пример:\n",
    "    \n",
    "    Вход: 12345890\n",
    "    Выход: 9854321"
   ]
  },
  {
   "cell_type": "code",
   "execution_count": 56,
   "metadata": {},
   "outputs": [
    {
     "name": "stdout",
     "output_type": "stream",
     "text": [
      "12345890\n",
      "9854321\n"
     ]
    }
   ],
   "source": [
    "num = int(input())\n",
    "res = 0\n",
    "\n",
    "while num != 0:\n",
    "    res = res*10 + num%10\n",
    "    num = num//10\n",
    "    \n",
    "print(res)"
   ]
  },
  {
   "cell_type": "markdown",
   "metadata": {},
   "source": [
    "## 9. Дано целое число, что может означать зашифрованное им сообщение\n",
    "\n",
    "Дано целое число которое означает последовательность цифр, набранных на кнопочном телефоне (печатали короткую СМСку на русском/английском языке, как вам удобнее). Вывести все варианты того, что может введенная последовательность означать.\n",
    "\n",
    "    Входные данные: digits = \"23\"\n",
    "    Выходные данные: [\"ad\",\"ae\",\"af\",\"bd\",\"be\",\"bf\",\"cd\",\"ce\",\"cf\"]\n",
    "\n",
    "+ усложнение. Попробуйте расшифровать наиболее вероятные введенные слова (вопросы можно задавать)"
   ]
  },
  {
   "cell_type": "code",
   "execution_count": 57,
   "metadata": {},
   "outputs": [],
   "source": [
    "letters = {'1':'.,?!:','2':'abc', '3':'def','4':'ghi', '5':'jkl', '6':'mno', '7':'pqrs','8':'tuv', '9':'wxyz','0':' '}"
   ]
  },
  {
   "cell_type": "code",
   "execution_count": 63,
   "metadata": {},
   "outputs": [
    {
     "name": "stdout",
     "output_type": "stream",
     "text": [
      "23\n",
      "['ad', 'ae', 'af', 'bd', 'be', 'bf', 'cd', 'ce', 'cf']\n"
     ]
    }
   ],
   "source": [
    "input_num = input()\n",
    "\n",
    "out = ['']\n",
    "\n",
    "for num in input_num:\n",
    "    out = [val+letter for val in out for letter in letters[num]]\n",
    "print(out)     "
   ]
  },
  {
   "cell_type": "markdown",
   "metadata": {},
   "source": [
    "## 10. Объединение словарей\n",
    "\n",
    "Напишите программу, которая подсчитывает значения из произвольного списка словарей следующего вида.\n",
    "\n",
    "Ввод:\n",
    "\n",
    "    shops = [{'товар': 'яблоки', 'количество': 400}, {'товар': 'конфеты', 'количество': 300}, {'товар': 'яблоки', 'количество': 750}]\n",
    "\n",
    "\n",
    "Вывод:\n",
    "\n",
    "    {'яблоки': 1150, 'конфеты': 300}"
   ]
  },
  {
   "cell_type": "code",
   "execution_count": 39,
   "metadata": {},
   "outputs": [],
   "source": [
    "shops = [{'товар': 'яблоки', 'количество': 400},\n",
    "         {'товар': 'конфеты', 'количество': 300}, \n",
    "         {'товар': 'яблоки', 'количество': 750}]"
   ]
  },
  {
   "cell_type": "code",
   "execution_count": 41,
   "metadata": {},
   "outputs": [
    {
     "name": "stdout",
     "output_type": "stream",
     "text": [
      "{'яблоки': 1150, 'конфеты': 300}\n"
     ]
    }
   ],
   "source": [
    "assort = {}\n",
    "for row in shops:\n",
    "    assort[row['товар']] = assort.get(row['товар'], 0) + row['количество']\n",
    "print(assort)"
   ]
  },
  {
   "cell_type": "markdown",
   "metadata": {},
   "source": [
    "## 11. Треугольник\n",
    "\n",
    "На вход принимается число N. \n",
    "\n",
    "Выведите на печать следующий паттерн:\n",
    "\n",
    "1\n",
    "\n",
    "1 2\n",
    "\n",
    "1 2 3\n",
    "\n",
    "1 2 3 4\n",
    "\n",
    "...\n",
    "\n",
    "1 ... N"
   ]
  },
  {
   "cell_type": "code",
   "execution_count": 38,
   "metadata": {},
   "outputs": [
    {
     "name": "stdout",
     "output_type": "stream",
     "text": [
      "5\n",
      "0\n",
      "0 1\n",
      "0 1 2\n",
      "0 1 2 3\n",
      "0 1 2 3 4\n"
     ]
    }
   ],
   "source": [
    "N = int(input())\n",
    "stack = []\n",
    "for i in range(N):\n",
    "    stack.append(str(i))\n",
    "    print(' '.join(stack))"
   ]
  }
 ],
 "metadata": {
  "kernelspec": {
   "display_name": "Python 3 (ipykernel)",
   "language": "python",
   "name": "python3"
  },
  "language_info": {
   "codemirror_mode": {
    "name": "ipython",
    "version": 3
   },
   "file_extension": ".py",
   "mimetype": "text/x-python",
   "name": "python",
   "nbconvert_exporter": "python",
   "pygments_lexer": "ipython3",
   "version": "3.9.13"
  }
 },
 "nbformat": 4,
 "nbformat_minor": 4
}
